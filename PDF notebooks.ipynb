{
 "cells": [
  {
   "cell_type": "code",
   "execution_count": null,
   "metadata": {},
   "outputs": [
    {
     "name": "stdout",
     "output_type": "stream",
     "text": [
      "\n"
     ]
    }
   ],
   "source": [
    "import PyPDF2\n",
    "def extract_pdf_txt(file_name: str):\n",
    "    with open(file_name, \"rb\") as file_handle:\n",
    "        reader = PyPDF2.PdfReader(file_handle, strict = False)\n",
    "        extracted_text = \"\"\n",
    "        for page in reader.pages:\n",
    "            content = page.extract_text()\n",
    "            extracted_text += content\n",
    "    return(extracted_text)\n",
    "\n",
    "\n",
    "test = extract_pdf_txt(\"image_based.pdf\")\n",
    "print(test)\n"
   ]
  },
  {
   "cell_type": "code",
   "execution_count": 2,
   "metadata": {},
   "outputs": [
    {
     "name": "stdout",
     "output_type": "stream",
     "text": [
      "This is an example of an “Image-based PDF” (also known as image-only PDFs).\n",
      "\n",
      "Image-based PDFs are typically created through scanning paper in a copier, taking photographs\n",
      "or taking screenshots. To a computer, they are images. Though we humans can see text in the\n",
      "image, the file only consists of the image layer but not the searchable text layer that True PDFs\n",
      "contain. As a result, we cannot use a computer to search the text we see in the image as that text\n",
      "layer is missing. There are times when discovery is produced, it will be in an image-based PDF\n",
      "format. When you come across image-based PDFs, ask the U.S. Attorney’s Office in what\n",
      "format was that file originally. Second, ask if they have it in a searchable format and specifically\n",
      "if they have it in a digitally created, True, Text-based PDF format. They may not, as they often\n",
      "receive PDFs from other sources before they provide them to you, but you will want to know\n",
      "what is the format in which they have it in, and what is the original format of the file (as far as\n",
      "they know).\n",
      "\n"
     ]
    }
   ],
   "source": [
    "import PyPDF2\n",
    "import pytesseract\n",
    "from pdf2image import convert_from_path\n",
    "def extract_pdf_imagetext(file_path: str):\n",
    "    images = convert_from_path(file_path)\n",
    "    pytesseract.pytesseract.tesseract_cmd = \"C:\\\\Program Files\\\\Tesseract-OCR\\\\tesseract.exe\"\n",
    "    extracted_text = \"\"\n",
    "    for image in images:\n",
    "        text = pytesseract.image_to_string(image)\n",
    "        extracted_text += text\n",
    "    return(extracted_text)\n",
    "test = extract_pdf_imagetext(\"image_based.pdf\")\n",
    "print(test)\n"
   ]
  },
  {
   "cell_type": "code",
   "execution_count": null,
   "metadata": {},
   "outputs": [],
   "source": [
    "import pytesseract\n",
    "from pdf2image import convert_from_path\n",
    "def extract_pdf_imagetext(file_name):\n",
    "    images = convert_from_path(file_name)\n",
    "    pytesseract.pytesseract.tesseract_cmd = \"C:\\\\Program Files\\\\Tesseract-OCR\\\\tesseract.exe\"\n",
    "    extracted_text = \"\"\n",
    "    for image in images:\n",
    "        text = pytesseract.image_to_string(image)\n",
    "        extracted_text += text\n",
    "    return(extracted_text)\n",
    "try:\n",
    "        the_text = extract_pdf_txt(\"Image_based_pdf\")\n",
    "        if the_text == \"\":\n",
    "            the_text = extract_pdf_imagetext(\"Image_based_pdf\")\n",
    "        print (the_text)\n",
    "except ValueError or PyPDF2.PdfReadError or PyPDF2.PDFPageCountError or SyntaxError:\n",
    "    print(\"Please upload a valid text-based or image-based pdf file\")\n",
    "    \n",
    "        \n"
   ]
  },
  {
   "cell_type": "code",
   "execution_count": 1,
   "metadata": {},
   "outputs": [
    {
     "name": "stdout",
     "output_type": "stream",
     "text": [
      "This is an example of an “Image-based PDF” (also known as image-only PDFs).\n",
      "\n",
      "Image-based PDFs are typically created through scanning paper in a copier, taking photographs\n",
      "or taking screenshots. To a computer, they are images. Though we humans can see text in the\n",
      "image, the file only consists of the image layer but not the searchable text layer that True PDFs\n",
      "contain. As a result, we cannot use a computer to search the text we see in the image as that text\n",
      "layer is missing. There are times when discovery is produced, it will be in an image-based PDF\n",
      "format. When you come across image-based PDFs, ask the U.S. Attorney’s Office in what\n",
      "format was that file originally. Second, ask if they have it in a searchable format and specifically\n",
      "if they have it in a digitally created, True, Text-based PDF format. They may not, as they often\n",
      "receive PDFs from other sources before they provide them to you, but you will want to know\n",
      "what is the format in which they have it in, and what is the original format of the file (as far as\n",
      "they know).\n",
      "\n"
     ]
    }
   ],
   "source": [
    "import PyPDF2\n",
    "import pytesseract\n",
    "from pdf2image import convert_from_path\n",
    "from decouple import AutoConfig\n",
    "from fastapi import FastAPI\n",
    "app = FastAPI()\n",
    "config = AutoConfig()\n",
    "tesseract_path = config(\"TESSERACT_PATH\")\n",
    "def extract_pdf_imagetext(file_path: str):\n",
    "    images = convert_from_path(file_path)\n",
    "    pytesseract.pytesseract.tesseract_cmd = tesseract_path\n",
    "    extracted_text = \"\"\n",
    "    for image in images:\n",
    "        text = pytesseract.image_to_string(image)\n",
    "        extracted_text += text\n",
    "    return(extracted_text)\n",
    "\n",
    "test = extract_pdf_imagetext(\"image_based.pdf\")\n",
    "print(test)"
   ]
  }
 ],
 "metadata": {
  "kernelspec": {
   "display_name": "Python 3",
   "language": "python",
   "name": "python3"
  },
  "language_info": {
   "codemirror_mode": {
    "name": "ipython",
    "version": 3
   },
   "file_extension": ".py",
   "mimetype": "text/x-python",
   "name": "python",
   "nbconvert_exporter": "python",
   "pygments_lexer": "ipython3",
   "version": "3.11.4"
  },
  "orig_nbformat": 4
 },
 "nbformat": 4,
 "nbformat_minor": 2
}
